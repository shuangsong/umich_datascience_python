{
 "cells": [
  {
   "cell_type": "code",
   "execution_count": null,
   "metadata": {},
   "outputs": [],
   "source": [
    "import pandas as pd\n",
    "import numpy as np\n",
    "import calendar\n",
    "import seaborn as sns\n",
    "import matplotlib as plt\n",
    "%matplotlib inline\n",
    "\n",
    "df = pd.read_csv('data/C2A2_data/BinnedCsvs_d400/fb441e62df2d58994928907a91895ec62c2c42e6cd075c2700843b89.csv')\n",
    "df['temperature']=df['Data_Value']/10\n",
    "df = df.drop(['Data_Value'],axis =1)\n",
    "df['Date'] = pd.to_datetime(df['Date'])\n",
    "df['year'] = df['Date'].dt.year\n",
    "#subset data use 2005-2014 \n",
    "record = df[df.year !=2015]\n",
    "record['month'] = record['Date'].dt.month\n",
    "record['month_name'] = record['month'].apply(lambda x: calendar.month_name[x])"
   ]
  },
  {
   "cell_type": "code",
   "execution_count": null,
   "metadata": {},
   "outputs": [],
   "source": [
    "#remove leap days:\n",
    "indexname = record[(record['Date'] == '2008-02-29') & (record['Date']=='2012-02-29')].index\n",
    "record.drop(indexname, inplace = True)"
   ]
  },
  {
   "cell_type": "code",
   "execution_count": null,
   "metadata": {},
   "outputs": [],
   "source": [
    "high = record.loc[record.groupby(['month','year'])['temperature'].idxmax()]\n",
    "#high\n",
    "high1 = high.loc[record.groupby(['month_name'])['temperature'].idxmax()]\n",
    "high1"
   ]
  },
  {
   "cell_type": "code",
   "execution_count": null,
   "metadata": {},
   "outputs": [],
   "source": [
    "low = record.loc[record.groupby(['month','year'])['temperature'].idxmin()]\n",
    "\n",
    "low1 = low.loc[record.groupby(['month_name'])['temperature'].idxmin()] # this method is to find highest tem each month \n",
    "low1"
   ]
  },
  {
   "cell_type": "code",
   "execution_count": null,
   "metadata": {},
   "outputs": [],
   "source": [
    "whole = pd.concat([high1,low1])\n",
    "#whole.rename(columns = {'temp-c' : 'temperature'}, inplace = True)"
   ]
  },
  {
   "cell_type": "code",
   "execution_count": null,
   "metadata": {},
   "outputs": [],
   "source": [
    "highdf = whole[whole['Element'] == 'TMAX']\n",
    "lowdf = whole[whole['Element'] == 'TMIN']\n",
    "highdf.head()"
   ]
  },
  {
   "cell_type": "code",
   "execution_count": null,
   "metadata": {},
   "outputs": [],
   "source": [
    "import pandas as pd\n",
    "plt.figure(figsize=(14,8))\n",
    "months = [\"January\", \"February\", \"March\", \"April\", \"May\", \"June\", \n",
    "          \"July\", \"August\", \"September\", \"October\", \"November\", \"December\"]\n",
    "highdf['month_name'] = pd.Categorical(highdf['month_name'], categories=months, ordered=True)\n",
    "lowdf['month_name'] = pd.Categorical(lowdf['month_name'], categories=months, ordered=True)\n",
    "highdf = highdf.sort_values(by = 'month_name') \n",
    "lowdf = lowdf.sort_values(by = 'month_name') "
   ]
  },
  {
   "cell_type": "code",
   "execution_count": null,
   "metadata": {},
   "outputs": [],
   "source": [
    "#now let us play with data in 2015:\n",
    "data_15 = df[df.year == 2015]\n",
    "data_15['month'] = data_15['Date'].dt.month\n",
    "data_15['month_name'] = data_15['month'].apply(lambda x: calendar.month_name[x])\n",
    "data_15.head()"
   ]
  },
  {
   "cell_type": "code",
   "execution_count": null,
   "metadata": {},
   "outputs": [],
   "source": [
    "highdf_15 = data_15[data_15['Element'] =='TMAX']\n",
    "lowdf_15 = data_15[data_15['Element'] =='TMIN']\n",
    "highdf_15.head()"
   ]
  },
  {
   "cell_type": "code",
   "execution_count": null,
   "metadata": {},
   "outputs": [],
   "source": [
    "#now let us find highest /lowest temp each month in 2015:\n",
    "hi_15 = highdf_15.loc[highdf_15.groupby(['month'])['temp-c'].idxmax()]\n",
    "lo_15 = lowdf_15.loc[lowdf_15.groupby(['month'])['temp-c'].idxmin()]\n",
    "#hi_15.rename(columns = {'temp-c' : 'temperature'}, inplace = True)\n",
    "#lo_15.rename(columns = {'temp-c' : 'temperature'}, inplace = True)"
   ]
  },
  {
   "cell_type": "code",
   "execution_count": null,
   "metadata": {},
   "outputs": [],
   "source": [
    "h = pd.concat([highdf,hi_15])\n",
    "h1 = h.loc[h.groupby(['month'])['temperature'].idxmax()]\n",
    "l = pd.concat([lowdf, lo_15])\n",
    "l1 = l.loc[l.groupby(['month'])['temperature'].idxmin()]\n",
    "l1"
   ]
  },
  {
   "cell_type": "code",
   "execution_count": null,
   "metadata": {},
   "outputs": [],
   "source": [
    "plt.figure(figsize=(18,8))\n",
    "m = highdf['month']\n",
    "high = highdf['temperature']\n",
    "low = lowdf['temperature']\n",
    "plt.plot(m, high, color = 'g')\n",
    "plt.plot(m, low, color = 'orange')\n",
    "plt.xlabel('month',fontsize=18)\n",
    "plt.ylabel('Temperature(°C)',fontsize=18)\n",
    "plt.title('High & low temperature 2005-2014',fontsize=22)\n",
    "plt.gca().fill_between(range(len(m)), \n",
    "                       high, low, \n",
    "                       facecolor='blue', \n",
    "                       alpha=0.25)\n",
    "plt.legend(['high record','low record'])\n",
    "plt.show()"
   ]
  },
  {
   "cell_type": "code",
   "execution_count": null,
   "metadata": {},
   "outputs": [],
   "source": [
    "import numpy as np\n",
    "import pandas as pd\n",
    "import matplotlib.pyplot as plt\n",
    "import matplotlib.dates as mdates\n",
    "plt.figure(figsize=(14,8))\n",
    "sns.tsplot(whole, time='month', unit = \"Element\", \n",
    "               condition='Element', value='temperature')\n",
    "plt.legend(title='Temperature 2005-2014', loc='upper right', labels=['Maximum', 'Minimum'])\n",
    "plt.show() # this method i cannot create a shaded area."
   ]
  }
 ],
 "metadata": {
  "kernelspec": {
   "display_name": "Python 2",
   "language": "python",
   "name": "python2"
  },
  "language_info": {
   "codemirror_mode": {
    "name": "ipython",
    "version": 2
   },
   "file_extension": ".py",
   "mimetype": "text/x-python",
   "name": "python",
   "nbconvert_exporter": "python",
   "pygments_lexer": "ipython2",
   "version": "2.7.15rc1"
  }
 },
 "nbformat": 4,
 "nbformat_minor": 2
}
